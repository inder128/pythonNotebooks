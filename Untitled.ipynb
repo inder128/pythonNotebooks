{
 "cells": [
  {
   "cell_type": "code",
   "execution_count": null,
   "metadata": {
    "scrolled": true
   },
   "outputs": [],
   "source": [
    "-Explored Target attribute , plotted distribution of it i.e. histogeam, distplot etc. (imbalanced or not)\n",
    "-Explored evaluation metrix (i.e. %accuracy , r2 score , auc score , sse etc.)\n",
    "-Obersreved each columns(i.e. their datatype ,distribution ,no. of unique values ,missing values) seperately.\n",
    "-One hot encodingand then pca or any other technique or label encoding for object ctegoricla columns.\n",
    "-fil missing values or not ( if fill then by what method(median imputing or mean)) (deleting with dropna)\n",
    "-dealing with outliers(by oberving their distribution)\n",
    "-plotting correlation matrix(exploring highly correlated columns furtherby plotting KDE plot.)\n",
    "-feature engineering (creating more features form imp. features (polyfeatures) or **domain expertise**)\n",
    "-applt models such as randon forest , gbm , lightgbm , xgboost etc."
   ]
  },
  {
   "cell_type": "code",
   "execution_count": null,
   "metadata": {},
   "outputs": [],
   "source": [
    "#Setting up before any kagglecompetition\n",
    "%matplotlib inline  #after importing matplotlib\n",
    "ls ../input  #list all csv file pronided\n",
    "train_df = pd.read_csv(\"../input/train.csv\")  #to read an iput file"
   ]
  },
  {
   "cell_type": "code",
   "execution_count": null,
   "metadata": {},
   "outputs": [],
   "source": [
    "#Anything we do to the training data we also have to do to the testing data."
   ]
  },
  {
   "cell_type": "code",
   "execution_count": null,
   "metadata": {},
   "outputs": [],
   "source": [
    "dataframe[col].value_counts() #count of different categories in that column"
   ]
  },
  {
   "cell_type": "code",
   "execution_count": null,
   "metadata": {},
   "outputs": [],
   "source": [
    "dataframe[condition].count() #count of rows satisfirng that condition  ##df[condition] = df[df.column != 0 and cond2]"
   ]
  },
  {
   "cell_type": "code",
   "execution_count": null,
   "metadata": {},
   "outputs": [],
   "source": [
    "plt.figure(figsize=(8,6))   #size of your frame"
   ]
  },
  {
   "cell_type": "code",
   "execution_count": null,
   "metadata": {},
   "outputs": [],
   "source": [
    "sns.distplot(1-D array, bins=50, kde=False) #histogram type"
   ]
  },
  {
   "cell_type": "code",
   "execution_count": null,
   "metadata": {},
   "outputs": [],
   "source": [
    "dataframe.groupby(\"Col1\").aggregate('col2').reset_index()  #aggregate by summation"
   ]
  },
  {
   "cell_type": "code",
   "execution_count": null,
   "metadata": {},
   "outputs": [],
   "source": [
    "# Align the training and testing data, keep only columns present in both dataframes\n",
    "df_train, df_test = df_train.align(df_test, join = 'inner', axis = 1) \n",
    "#df_train had some extra columns which were not present in df_test.\n",
    "new_df = df1.merge(df1, on = 'col that present in both df1 and df2 i.e. linking column', how = 'left') #MERGE."
   ]
  },
  {
   "cell_type": "code",
   "execution_count": null,
   "metadata": {},
   "outputs": [],
   "source": [
    "daaframe.iloc[:10,0]  #similar to a 2d matrix"
   ]
  },
  {
   "cell_type": "code",
   "execution_count": null,
   "metadata": {},
   "outputs": [],
   "source": [
    "dataframe.loc[row number]  #output row  columns and values\n",
    "dataframe.loc[dataframe['col1'] == 0, 'col2']  #return values of col2 fron only that rows which satisfies col1==0."
   ]
  },
  {
   "cell_type": "code",
   "execution_count": null,
   "metadata": {},
   "outputs": [],
   "source": [
    "dataframe.isnull().sum(axis=0).reset_index()  #gives no. of null values in each column"
   ]
  },
  {
   "cell_type": "code",
   "execution_count": null,
   "metadata": {},
   "outputs": [],
   "source": [
    "dataframe.isnull().sum(axis=1).reset_index()  #gives no. of null values in each row"
   ]
  },
  {
   "cell_type": "code",
   "execution_count": null,
   "metadata": {},
   "outputs": [],
   "source": [
    "dataframe = dataframe.sort_values(by='column' ,ascending=False)   #sort dataframe acc. to values of that column \n",
    "#remove \",ascending=False\" to sort them in ascendind order."
   ]
  },
  {
   "cell_type": "code",
   "execution_count": null,
   "metadata": {},
   "outputs": [],
   "source": [
    "dataframe = dataframe.round(1)  #it rounds all values in dataframe to one decimal place."
   ]
  },
  {
   "cell_type": "code",
   "execution_count": null,
   "metadata": {},
   "outputs": [],
   "source": [
    "4200 rows are small with 388 columns. We should try not to overfit."
   ]
  },
  {
   "cell_type": "code",
   "execution_count": null,
   "metadata": {},
   "outputs": [],
   "source": [
    "explore target attribute (boxplot , histogram , noticing outliers , sorting and then ploting wrt index)"
   ]
  },
  {
   "cell_type": "code",
   "execution_count": null,
   "metadata": {},
   "outputs": [],
   "source": [
    "plt.subplot(x, y, i)  #it is reffering to i'th plot in a (x*y) plots plotted in t x cross y grid."
   ]
  },
  {
   "cell_type": "code",
   "execution_count": null,
   "metadata": {},
   "outputs": [],
   "source": [
    "plt.xlabel('index', fontsize=12)"
   ]
  },
  {
   "cell_type": "code",
   "execution_count": null,
   "metadata": {},
   "outputs": [],
   "source": [
    "dataframe[col].dtype   #gives datatype of that column\n",
    "dataframe.dtype.value_counts() #gives count(no. of columns) of every datatype i.e. float64 ,int64 ,object"
   ]
  },
  {
   "cell_type": "code",
   "execution_count": null,
   "metadata": {},
   "outputs": [],
   "source": [
    "dataframe[col].unique() #all distinct values or categoris in series.\n",
    "# Number of unique classes in each column with datatype \"object\". (which are generaly categorical columns)\n",
    "dataframe.select_dtypes('object').apply(pd.Series.nunique, axis = 0) "
   ]
  },
  {
   "cell_type": "code",
   "execution_count": null,
   "metadata": {},
   "outputs": [],
   "source": [
    "df['log_col'] = np.log10(df['col'])  #For skewed data."
   ]
  },
  {
   "cell_type": "code",
   "execution_count": null,
   "metadata": {},
   "outputs": [],
   "source": [
    "#df.dropna()  https://pandas.pydata.org/pandas-docs/stable/reference/api/pandas.DataFrame.dropna.html"
   ]
  },
  {
   "cell_type": "code",
   "execution_count": null,
   "metadata": {},
   "outputs": [],
   "source": [
    "#PAIRPLOTS (sns.pairplot())   https://towardsdatascience.com/visualizing-data-with-pair-plots-in-python-f228cf529166"
   ]
  },
  {
   "cell_type": "code",
   "execution_count": null,
   "metadata": {},
   "outputs": [],
   "source": [
    "numpyarrat.tolist()              string = str(list)"
   ]
  },
  {
   "cell_type": "code",
   "execution_count": null,
   "metadata": {},
   "outputs": [],
   "source": [
    "[x for x in list(datsframe.columns) if x != 'TARGET']  #list of all columns of dataframe except \"TARGET\"."
   ]
  },
  {
   "cell_type": "code",
   "execution_count": null,
   "metadata": {},
   "outputs": [],
   "source": [
    "dic = {\"A\":1, \"B\":2} \n",
    "print(dic[\"A\"]) \n",
    "print(dic[\"C\"]) # it will give an error because \"C\" is not present in dict."
   ]
  },
  {
   "cell_type": "code",
   "execution_count": 2,
   "metadata": {},
   "outputs": [
    {
     "name": "stdout",
     "output_type": "stream",
     "text": [
      "1\n",
      "None\n",
      "{'A': 1, 'B': 2, 'C': [0, 1]}\n"
     ]
    }
   ],
   "source": [
    "dic = {\"A\":1, \"B\":2} \n",
    "print(dic.get(\"A\")) \n",
    "print(dic.get(\"C\")) \n",
    "t=dic.get(\"C\",[])\n",
    "t.append(0)\n",
    "dic[\"C\"] = t\n",
    "t=dic.get(\"C\",[])\n",
    "t.append(1)\n",
    "dic[\"C\"] = t\n",
    "print(dic) # it will give an error even if \"C\" is not present initially in the dict."
   ]
  },
  {
   "cell_type": "code",
   "execution_count": null,
   "metadata": {},
   "outputs": [],
   "source": [
    "sns.(stripplot or violinplot or boxplot)(x=\"col of dataframe on x axis\", y='col of dataframe on y axis',\n",
    "                    data=dataframe, order = list of different categories of colum representd on x axis )\n",
    "# voilinplot bor less categories (upto 10-12)\n",
    "# stripplot of 15 or more categories\n",
    "# boxplot"
   ]
  },
  {
   "cell_type": "code",
   "execution_count": null,
   "metadata": {},
   "outputs": [],
   "source": [
    "sns.regplot(x=\"col of dataframe on x axis\", y='col of dataframe on y axis',data=dataframe)\n",
    "#also plots a line through data by doing linear regression"
   ]
  },
  {
   "cell_type": "code",
   "execution_count": null,
   "metadata": {},
   "outputs": [],
   "source": [
    "sns.heatmap(dataframe)   #values in dataframe must be float or int"
   ]
  },
  {
   "cell_type": "code",
   "execution_count": null,
   "metadata": {},
   "outputs": [],
   "source": [
    "pandas.dataframe.pivot()   #see documentation\n",
    "dataframe = pandas.concat([dataframe1 , dataframe2] , axis=0 or 1)   "
   ]
  },
  {
   "cell_type": "code",
   "execution_count": null,
   "metadata": {},
   "outputs": [],
   "source": [
    "#more color difference more the mean of target values corresponding to that particular class.\n",
    "#Binary variables which shows a good color difference in above graphs between 0 and 1 are likely to be more predictive\n",
    "#given the the count distribution is also good between both the classes (can be seen from the previous graph).\n",
    "#There are algorithms like decision trees and random forests that can work with categorical variables just fine  \n",
    "#and LabelEncoder can be used to store values using less disk space."
   ]
  },
  {
   "cell_type": "code",
   "execution_count": 4,
   "metadata": {},
   "outputs": [
    {
     "name": "stdout",
     "output_type": "stream",
     "text": [
      "['amsterdam' 'paris' 'tokyo']\n",
      "[2 2 1]\n",
      "['tokyo' 'tokyo' 'paris']\n"
     ]
    }
   ],
   "source": [
    "from sklearn import preprocessing\n",
    "le = preprocessing.LabelEncoder()\n",
    "le.fit([\"paris\", \"paris\", \"tokyo\", \"amsterdam\"])\n",
    "print(le.classes_)\n",
    "print(le.transform([\"tokyo\", \"tokyo\", \"paris\"]))\n",
    "print(le.inverse_transform([2, 2, 1]))"
   ]
  },
  {
   "cell_type": "code",
   "execution_count": 10,
   "metadata": {},
   "outputs": [
    {
     "data": {
      "text/html": [
       "<div>\n",
       "<style scoped>\n",
       "    .dataframe tbody tr th:only-of-type {\n",
       "        vertical-align: middle;\n",
       "    }\n",
       "\n",
       "    .dataframe tbody tr th {\n",
       "        vertical-align: top;\n",
       "    }\n",
       "\n",
       "    .dataframe thead th {\n",
       "        text-align: right;\n",
       "    }\n",
       "</style>\n",
       "<table border=\"1\" class=\"dataframe\">\n",
       "  <thead>\n",
       "    <tr style=\"text-align: right;\">\n",
       "      <th></th>\n",
       "      <th>C</th>\n",
       "      <th>A_a</th>\n",
       "      <th>A_b</th>\n",
       "      <th>B_a</th>\n",
       "      <th>B_b</th>\n",
       "      <th>B_c</th>\n",
       "    </tr>\n",
       "  </thead>\n",
       "  <tbody>\n",
       "    <tr>\n",
       "      <td>0</td>\n",
       "      <td>1</td>\n",
       "      <td>1</td>\n",
       "      <td>0</td>\n",
       "      <td>0</td>\n",
       "      <td>1</td>\n",
       "      <td>0</td>\n",
       "    </tr>\n",
       "    <tr>\n",
       "      <td>1</td>\n",
       "      <td>2</td>\n",
       "      <td>0</td>\n",
       "      <td>1</td>\n",
       "      <td>1</td>\n",
       "      <td>0</td>\n",
       "      <td>0</td>\n",
       "    </tr>\n",
       "    <tr>\n",
       "      <td>2</td>\n",
       "      <td>3</td>\n",
       "      <td>1</td>\n",
       "      <td>0</td>\n",
       "      <td>0</td>\n",
       "      <td>0</td>\n",
       "      <td>1</td>\n",
       "    </tr>\n",
       "  </tbody>\n",
       "</table>\n",
       "</div>"
      ],
      "text/plain": [
       "   C  A_a  A_b  B_a  B_b  B_c\n",
       "0  1    1    0    0    1    0\n",
       "1  2    0    1    1    0    0\n",
       "2  3    1    0    0    0    1"
      ]
     },
     "execution_count": 10,
     "metadata": {},
     "output_type": "execute_result"
    }
   ],
   "source": [
    "import pandas as pd  #ONW-Hot Encoding.\n",
    "df = pd.DataFrame({'A': ['a', 'b', 'a'], 'B': ['b', 'a', 'c'],'C': [1, 2, 3]})\n",
    "pd.get_dummies(df) #pd.get_dummies(df,prefix=['col1','col2']) to change A to col1 and B to col2."
   ]
  },
  {
   "cell_type": "code",
   "execution_count": null,
   "metadata": {},
   "outputs": [],
   "source": [
    "import pandas as pd  #ONW-Hot Encoding.\n",
    "df = pd.DataFrame({'A': ['a', np.nan, 'a'], 'B': ['b', 'a', 'c'],'C': [1, 2, 3]})\n",
    "print(df,\"\\n\")\n",
    "\n",
    "df[\"D\"] = df.A.isnull().astype(int)\n",
    "print(df,\"\\n\")\n",
    "\n",
    "a=[]\n",
    "lcol=[\"b\",\"a\"]\n",
    "for i in range(len(df)):\n",
    "    if df.B[i] in lcol:\n",
    "        a.append(False)\n",
    "    else:\n",
    "        a.append(True)\n",
    "df.loc[a,\"B\"]=\"other\"\n",
    "print(df,\"\\n\")"
   ]
  },
  {
   "cell_type": "code",
   "execution_count": null,
   "metadata": {},
   "outputs": [],
   "source": [
    "#For categorical variables with many classes, one-hot encoding is the safest approach because it does not impose \n",
    "#arbitrary values to categories. The only downside to one-hot encoding is that the number of features (dimensions \n",
    "#of the data) can explode with categorical variables with many categories. To deal with this, we can perform \n",
    "#one-hot encoding followed by PCA or other dimensionality reduction methods."
   ]
  },
  {
   "cell_type": "code",
   "execution_count": 11,
   "metadata": {},
   "outputs": [
    {
     "name": "stdout",
     "output_type": "stream",
     "text": [
      "[0 1 2 3 4 5 7 9]\n",
      "[6 0 3 7 5 1 4 2]\n",
      "[2 4 1 5 7 3 0 6]\n"
     ]
    },
    {
     "data": {
      "text/plain": [
       "array([20., 25., 30., 35., 40., 45., 50., 55., 60., 65., 70.])"
      ]
     },
     "execution_count": 11,
     "metadata": {},
     "output_type": "execute_result"
    }
   ],
   "source": [
    "import numpy as np\n",
    "a = np.array([1,5,9,2,7,4,0,3])\n",
    "print(np.sort(a))    #simple sorting\n",
    "print(np.argsort(a))   #gives indices of sorted array\n",
    "print(np.argsort(a)[::-1])  #reversing the array"
   ]
  },
  {
   "cell_type": "code",
   "execution_count": null,
   "metadata": {},
   "outputs": [],
   "source": [
    "#prefer smaller trees i.e. less no. of nodes or less depth.\n",
    "#stop tree weh any one class is highly diminent.\n",
    "#stop when we have used all the attributes in upper path.\n",
    "#stop when we have too few train examples remaining to split further.\n",
    "#entropy , information gain , gini index.\n",
    "#as we increase no. of nodes after a certain limit (optimal) training error decreases and test error increases.\n",
    "#underfitting happnes when tree is small."
   ]
  },
  {
   "cell_type": "code",
   "execution_count": null,
   "metadata": {},
   "outputs": [],
   "source": [
    "#different causes of overfitting:\n",
    "    #less data.\n",
    "    #model fitted noise or error or outliers.\n",
    "    #large no. og parameters (weights)."
   ]
  },
  {
   "cell_type": "code",
   "execution_count": null,
   "metadata": {},
   "outputs": [],
   "source": [
    "# Thanks to anokas for this #\n",
    "def xgb_r2_score(preds, dtrain):\n",
    "    labels = dtrain.get_label()\n",
    "    return 'r2', r2_score(labels, preds)\n",
    "\n",
    "xgb_params = {\n",
    "    'eta': 0.05,  #just like learning rate\n",
    "                  #Step size shrinkage used in update to prevents overfitting. \n",
    "                  #After each boosting step, we can directly get the weights of new features, \n",
    "                  #and eta shrinks the feature weights to make the boosting process more conservative.\n",
    "    'max_depth': 6,   #max depth an individual tree can have\n",
    "    'subsample': 0.7,    #70 examples of total 100 examples are to train an individual tree.\n",
    "    'colsample_bytree': 0.7,   #70 columns of total 100 columns are to train an individual tree.\n",
    "    'objective': 'reg:linear',    #to split data i.e. by calculating sse on different splits.\n",
    "    'silent': 1  #printing messages or warning.\n",
    "    #there is also a base_score parameter which is just prediction at starting point. {'base_score': y_mean}\n",
    "}\n",
    "dtrain = xgb.DMatrix(train_X, train_y, feature_names=train_X.columns.values)\n",
    "#DMatrix : converts data in readable format by xgboost.\n",
    "model = xgb.train(dict(xgb_params, silent=0), dtrain, num_boost_round=100, feval=xgb_r2_score, maximize=True)\n",
    "#num_boost_round : The number of rounds for boosting.\n",
    "\n",
    "# plot the important features #\n",
    "fig, ax = plt.subplots(figsize=(12,18))\n",
    "xgb.plot_importance(model, max_num_features=50, height=0.8, ax=ax)\n",
    "plt.show()"
   ]
  },
  {
   "cell_type": "code",
   "execution_count": null,
   "metadata": {},
   "outputs": [],
   "source": [
    "from sklearn import ensemble\n",
    "model = ensemble.RandomForestRegressor(n_estimators=200, max_depth=10, min_samples_leaf=4, max_features=0.2, n_jobs=-1, random_state=0)\n",
    "#n_estimators are no. of trees in random forest.\n",
    "#max_features is the fraction of totla features used in a tree.\n",
    "#n_job is the no.of processors to use (-1 if all processers are used)\n",
    "model.fit(train_X, train_y)\n",
    "feat_names = train_X.columns.values\n",
    "\n",
    "## plot the importances ##\n",
    "importances = model.feature_importances_\n",
    "std = np.std([tree.feature_importances_ for tree in model.estimators_], axis=0)\n",
    "#there will ve n_estimators i.e. trees in model.estimators_.\n",
    "indices = np.argsort(importances)[::-1][:20]\n",
    "\n",
    "plt.figure(figsize=(12,12))\n",
    "plt.title(\"Feature importances\")\n",
    "plt.bar(range(len(indices)), importances[indices], color=\"r\", align=\"center\")\n",
    "plt.xticks(range(len(indices)), feat_names[indices], rotation='vertical')\n",
    "plt.xlim([-1, len(indices)])\n",
    "plt.show()"
   ]
  },
  {
   "cell_type": "code",
   "execution_count": null,
   "metadata": {},
   "outputs": [],
   "source": [
    "# process columns, apply LabelEncoder to categorical features\n",
    "for c in train.columns:\n",
    "    if train[c].dtype == 'object':\n",
    "        lbl = LabelEncoder() \n",
    "        lbl.fit(list(train[c].values) + list(test[c].values)) #train with both train and test data.\n",
    "        train[c] = lbl.transform(list(train[c].values))\n",
    "        test[c] = lbl.transform(list(test[c].values))"
   ]
  },
  {
   "cell_type": "code",
   "execution_count": null,
   "metadata": {},
   "outputs": [],
   "source": [
    "# PCA\n",
    "pca = PCA(n_components=n_comp, random_state=42)\n",
    "pca2_results_train = pca.fit_transform(train.drop([\"y\"], axis=1))   #train with only train data.\n",
    "pca2_results_test = pca.transform(test)\n",
    "\n",
    "# ICA\n",
    "ica = FastICA(n_components=n_comp, random_state=42)\n",
    "ica2_results_train = ica.fit_transform(train.drop([\"y\"], axis=1))\n",
    "ica2_results_test = ica.transform(test)\n"
   ]
  },
  {
   "cell_type": "code",
   "execution_count": null,
   "metadata": {},
   "outputs": [],
   "source": [
    "xgboost.cv()   #early_stopping_rounds parameter in this are no. of rounds to consider to check,\n",
    "               #if there is any significant change in loss or accuracy, in order to decide whether to stop or not."
   ]
  },
  {
   "cell_type": "code",
   "execution_count": null,
   "metadata": {},
   "outputs": [],
   "source": [
    "#XGBoost can handle missing values with no need for imputation.\n",
    "#Imputation:- filling missing values.\n",
    "#(https://stats.stackexchange.com/questions/235489/xgboost-can-handle-missing-data-in-the-forecasting-phase)"
   ]
  },
  {
   "cell_type": "code",
   "execution_count": null,
   "metadata": {},
   "outputs": [],
   "source": [
    "# make predictions and save results on kaggle.\n",
    "y_pred = model.predict(dtest)\n",
    "output = pd.DataFrame({'id': test['ID'].astype(np.int32), 'y': y_pred})\n",
    "output.to_csv('xgboost-depth{}-pca-ica.csv'.format(xgb_params['max_depth']), index=False)"
   ]
  },
  {
   "cell_type": "code",
   "execution_count": null,
   "metadata": {},
   "outputs": [],
   "source": [
    "dataframe['columns'].astype(int).plot.hist(title=\"abc\"); #.astype(int) only if values are not int i.e. they are int64\n",
    "plt.xlabel('x_label');"
   ]
  },
  {
   "cell_type": "code",
   "execution_count": null,
   "metadata": {},
   "outputs": [],
   "source": [
    "#CLASS IMBALANCED PROBLEM :- http://www.chioka.in/class-imbalance-problem/"
   ]
  },
  {
   "cell_type": "code",
   "execution_count": null,
   "metadata": {},
   "outputs": [],
   "source": [
    "dataframe['column_name'].replace({\"value to be replaced\": np.nan}, inplace = True)\n",
    "#np.nan :- \"value to be replaced with\""
   ]
  },
  {
   "cell_type": "code",
   "execution_count": null,
   "metadata": {},
   "outputs": [],
   "source": [
    "#Pearson’s correlation \n",
    "\n",
    "#The correlation coefficient is a measure of linear relationship and thus a value of r=0 does not imply there is no \n",
    "#relationship between the variables. For example in quadratic relationship y=x^2 there is no (linear) correlation b/w\n",
    "#x & y however there is a perfect quadratic relationship i.e. x & y are correlated.\n",
    "\n",
    "#Strength of correlation when correlation coefficient absolute value is : \n",
    "#  .00-.19 “very weak”\n",
    "#  .20-.39 “weak”\n",
    "#  .40-.59 “moderate”\n",
    "#  .60-.79 “strong”\n",
    "#  .80-1.0 “very strong”"
   ]
  },
  {
   "cell_type": "code",
   "execution_count": null,
   "metadata": {},
   "outputs": [],
   "source": [
    "correlations = dataframe.corr()['TARGET_ATTRIBUTE']\n",
    "#Correlation of target attribute whith other attribute sorted in ascending order.\n",
    "df[\"col1\"].corr(df[\"col2\"])  #correlation between col1 and col2."
   ]
  },
  {
   "cell_type": "code",
   "execution_count": null,
   "metadata": {},
   "outputs": [],
   "source": [
    "#A KERNAL DENSITY ESTIMATE plot shows the distribution of a single variable and can be thought of as a smoothed \n",
    "#histogram (it is created by computing a kernel, usually a Gaussian, at each data point and then averaging all \n",
    "#the individual kernels to develop a single smooth curve).\n",
    "#generally used to visualise distributuin of a variable acc. to different values of target attribute."
   ]
  },
  {
   "cell_type": "code",
   "execution_count": null,
   "metadata": {},
   "outputs": [],
   "source": [
    "df['new_col'] = pd.cut(df['col'], bins = np.linspace(20, 70, num = 11))  #max of \"col\" is 69 and min is 21.\n",
    "#it divides \"col\" into 10 cotegories and save those categories (20 t0 70) of equal length in \"new_col\" column."
   ]
  },
  {
   "cell_type": "code",
   "execution_count": null,
   "metadata": {},
   "outputs": [],
   "source": [
    "from sklearn.preprocessing import Imputer\n",
    "# imputer for handling missing values\n",
    "imputer = Imputer(strategy = 'median')\n",
    "dataframe = imputer.fit_transform(dataframe)"
   ]
  },
  {
   "cell_type": "code",
   "execution_count": null,
   "metadata": {},
   "outputs": [],
   "source": [
    "from sklearn.preprocessing import PolynomialFeatures\n",
    "# Create the polynomial object with specified degree\n",
    "poly_transformer = PolynomialFeatures(degree = 3)\n",
    "poly_transformer.get_feature_names(input_features = ['EXT_SOURCE_1', 'EXT_SOURCE_2', 'EXT_SOURCE_3', 'DAYS_BIRTH'])[:15]"
   ]
  },
  {
   "cell_type": "code",
   "execution_count": null,
   "metadata": {},
   "outputs": [],
   "source": [
    "import pandas as pd; import numpy as np; from sklearn.preprocessing import PolynomialFeatures\n",
    "df1 = pd.DataFrame(np.random.randint(low=0, high=10, size=(5, 5)),columns=['a', 'b', 'c', 'd', 'e'])\n",
    "poly_transformer = PolynomialFeatures(degree = 3)  ; df2 = poly_transformer.fit_transform(df1)\n",
    "columns = poly_transformer.get_feature_names(['a', 'b', 'c', 'd', 'e'])\n",
    "df3 = pd.DataFrame(df2, columns=columns) \n",
    "print(\"df1\\n\",df1,\"\\n\\ndf2\",df2,\"\\n\\ndf3\\n\",df3,\"\\n\\ncolumns: \\n\",columns)"
   ]
  },
  {
   "cell_type": "code",
   "execution_count": null,
   "metadata": {},
   "outputs": [],
   "source": [
    "import numpy as np; from sklearn.model_selection import KFold\n",
    "X = np.array([[1, 2], [3, 4], [1, 2], [3, 4],[300000, 4],[30000, 4],[3000, 4],[300, 4],[30, 4]])\n",
    "y = np.array([1, 2, 3, 4,5,6,7,8,9])\n",
    "kf = KFold(n_splits=4, shuffle = True); print(kf)\n",
    "for train_index, test_index in kf.split(X):\n",
    "   print(\"TRAIN:\", train_index, \"TEST:\", test_index)\n",
    "# Notice union of all test set contain all indices from 0 to 8\n",
    "# Kfold splits data into n_splits parts and each time it considers only one part to be test set and rest as train set."
   ]
  },
  {
   "cell_type": "code",
   "execution_count": null,
   "metadata": {},
   "outputs": [],
   "source": [
    "#lightgbm.LGBMClassifier\n",
    "#competetion : Home Credit Default Risk ; notebook : Start Here: A Gentle Introduction ; topic : lightGBM (at the end)"
   ]
  },
  {
   "cell_type": "code",
   "execution_count": null,
   "metadata": {},
   "outputs": [],
   "source": [
    "--Linear Classifier Models are especially good for sparse high dimensional data.\n",
    "--Although Scikit-Learn contain implementation of gradient boost decision trees but libraries like \n",
    "XGBoost and LightGBM are preffered for their higher speed and accuracy. \n",
    "--In general, tree-based models are very powerful and can be a good default method for tabular data. \n",
    "In almost every competitions, winners use this approach.\n",
    "--k-NN is very simple and useful algorithm based on distant function but in some cases, it can be meaningless to \n",
    "use such an distance function. For example, square distance over images is unable to capture semantic meaning.\n",
    "--In contrast to decision trees , Neural Networks obtains a smooth separating curve.\n",
    "--Some types of Neural Networks are especially good for images, sounds, text, and sequences.\n",
    "--There are a lot of frameworks to work with Neural Networks. Packages like TensorFlow, Keras, MXNet, PyTorch, and \n",
    "Lasagne can be used to feed Neural Nets. PyTorch provides flexible and user-friendly way to define complex networks.\n",
    "--No Free Lunch Theorem :- It states that there is no methods which outperform all others methods on all tasks.\n",
    "--Linear Model can be imagined as splitting space into two sub-spaces separated by a hyper plane. \n",
    "*Tree-Based Methods split space into boxes and use constant the predictions in every box. \n",
    "*k-NN methods are based on the assumptions that close objects are likely to have same labels. So we need to find \n",
    "closest objects and pick their labels. Also, k-NN approach heavily relies on how to measure point closeness. \n",
    "*Feed-forward Neural Nets are harder to interpret but they produce smooth non-linear decision boundary. \n",
    "*The most powerful methods are Gradient Boosted Decision Trees and Neural Networks. \n",
    "*But we should not underestimate Linear Models and k-NN because sometimes, they may be better.\n",
    "--Tree-based models dont depend on scaling, while non-tree-based models usually depend on them.\n",
    "--Ordinal is a special case of categorical feature but with values sorted in some meaningful order. Frequency encoding \n",
    "maps unique values to their frequencies. Label encoding and frequency encoding are often used for tree-based methods. \n",
    "One-hot encoding is often used for non-tree-based-methods. \n",
    "--Model can improve its results using binary feature isnull which indicates what roles have missing values.\n",
    "In general, avoid replacing NaN before feature generation, because it can decrease usefulness of the features. \n",
    "Xgboost can handle NaN directly, which sometimes can change the score for the better."
   ]
  },
  {
   "cell_type": "code",
   "execution_count": null,
   "metadata": {},
   "outputs": [],
   "source": []
  },
  {
   "cell_type": "code",
   "execution_count": null,
   "metadata": {},
   "outputs": [],
   "source": []
  },
  {
   "cell_type": "code",
   "execution_count": null,
   "metadata": {},
   "outputs": [],
   "source": []
  },
  {
   "cell_type": "code",
   "execution_count": null,
   "metadata": {},
   "outputs": [],
   "source": []
  },
  {
   "cell_type": "code",
   "execution_count": null,
   "metadata": {},
   "outputs": [],
   "source": [
    "#FEATURE SELECTION BY SKLEARN  (CHI^2 AND f_classif METHOD)\n",
    "\n",
    "from sklearn.feature_selection import SelectPercentile\n",
    "from sklearn.feature_selection import f_classif,chi2\n",
    "from sklearn.preprocessing import Binarizer, scale\n",
    "\n",
    "p=75 #p is percentile\n",
    "X_bin = Binarizer().fit_transform(scale(X))  #X is dataframe (numpy 2d array)\n",
    "selectChi2 = SelectPercentile(chi2, percentile=p).fit(X_bin, y)\n",
    "selectF_classif = SelectPercentile(f_classif, percentile=p).fit(X, y)\n",
    "\n",
    "chi2_selected = selectChi2.get_support()\n",
    "chi2_selected_features = [ f for i,f in enumerate(X.columns) if chi2_selected[i]]\n",
    "print('Chi2 selected {} features.'.format(chi2_selected.sum()))\n",
    "\n",
    "f_classif_selected = selectF_classif.get_support()\n",
    "f_classif_selected_features = [ f for i,f in enumerate(X.columns) if f_classif_selected[i]]\n",
    "print('F_classif selected {} features.'.format(f_classif_selected.sum()))\n",
    "\n",
    "selected = chi2_selected & f_classif_selected\n",
    "print('Chi2 & F_classif selected {} features'.format(selected.sum()))\n",
    "features = [ f for f,s in zip(X.columns, selected) if s]"
   ]
  },
  {
   "cell_type": "code",
   "execution_count": null,
   "metadata": {},
   "outputs": [],
   "source": []
  },
  {
   "cell_type": "code",
   "execution_count": null,
   "metadata": {},
   "outputs": [],
   "source": []
  },
  {
   "cell_type": "code",
   "execution_count": 8,
   "metadata": {},
   "outputs": [
    {
     "name": "stdout",
     "output_type": "stream",
     "text": [
      "\n",
      "BernoulliNB.predict(X)\n",
      "[1 1 1 1 1 2 2 2 2]\n",
      "\n",
      "BernoulliNB class_log_prior_ [-0.58778666 -0.81093022]\n",
      "\n",
      "BernoulliNB clf.feature_log_prob_\n",
      "[[-1.60347960e+00 -5.11489855e-01 -5.11489855e-01 -6.21860012e+00]\n",
      " [-6.93147181e-01 -2.89341824e-01 -2.89341824e-01 -2.49066131e-03]]\n",
      "\n",
      "\n",
      "\n",
      "\n",
      "clf_CategoricalNB.predict(X)\n",
      "[1 1 1 1 1 2 2 2 2]\n",
      "\n",
      "CategoricalNB class_log_prior_ [-0.58778666 -0.81093022]\n",
      "\n",
      "clf_CategoricalNB.feature_log_prob_\n",
      "[array([[-0.22463869, -1.6034796 ],\n",
      "       [-0.69314718, -0.69314718]]), array([[-0.91529521, -0.51148985],\n",
      "       [-1.38133157, -0.28934182]]), array([[-0.91529521, -0.51148985],\n",
      "       [-1.38133157, -0.28934182]]), array([[-1.99401861e-03, -6.21860012e+00],\n",
      "       [-5.99645209e+00, -2.49066131e-03]])]\n",
      "\n",
      "\n",
      "\n",
      "\n",
      "\n",
      "\n",
      "clf_CategoricalNB.coef\n",
      "[array([[-0.91529521, -0.51148985],\n",
      "       [-1.38133157, -0.28934182]]), array([[-0.91529521, -0.51148985],\n",
      "       [-1.38133157, -0.28934182]]), array([[-1.99401861e-03, -6.21860012e+00],\n",
      "       [-5.99645209e+00, -2.49066131e-03]])]\n"
     ]
    }
   ],
   "source": [
    "X = np.array([\n",
    "       [0, 0, 1, 0],\n",
    "       [0, 1, 0, 0],\n",
    "       [0, 1, 1, 0],\n",
    "       [1, 0, 1, 0],\n",
    "       [0, 1, 0, 0],\n",
    "       [1, 1, 0, 1],\n",
    "       [1, 1, 1, 1],\n",
    "       [0, 0, 1, 1],\n",
    "       [0, 1, 1, 1]])\n",
    "y = np.array([1, 1, 1, 1, 1, 2, 2, 2, 2])\n",
    "\n",
    "from sklearn.naive_bayes import CategoricalNB\n",
    "from sklearn.naive_bayes import BernoulliNB\n",
    "\n",
    "clf_BernoulliNB = BernoulliNB(alpha=0.01) # , class_prior = [0.1 , 0.1])\n",
    "clf_BernoulliNB.fit(X, y)\n",
    "\n",
    "print('\\nBernoulliNB.predict(X)' )\n",
    "print(clf_BernoulliNB.predict(X) )\n",
    "print('\\nBernoulliNB class_log_prior_' , clf_BernoulliNB.class_log_prior_)\n",
    "print('\\nBernoulliNB clf.feature_log_prob_' )\n",
    "print(clf_BernoulliNB.feature_log_prob_ )\n",
    "\n",
    "clf_CategoricalNB = CategoricalNB(alpha=0.01)\n",
    "clf_CategoricalNB.fit(X, y)\n",
    "\n",
    "print('\\n\\n\\n\\nclf_CategoricalNB.predict(X)' )\n",
    "print(clf_CategoricalNB.predict(X) )\n",
    "print('\\nCategoricalNB class_log_prior_' , clf_CategoricalNB.class_log_prior_)\n",
    "print('\\nclf_CategoricalNB.feature_log_prob_' )\n",
    "print(clf_CategoricalNB.feature_log_prob_ )\n",
    "print('\\n\\n\\n\\n\\n\\nclf_CategoricalNB.coef')\n",
    "print(clf_CategoricalNB.coef_ )\n"
   ]
  },
  {
   "cell_type": "code",
   "execution_count": 2,
   "metadata": {},
   "outputs": [],
   "source": [
    "import numpy as np"
   ]
  },
  {
   "cell_type": "code",
   "execution_count": 9,
   "metadata": {},
   "outputs": [],
   "source": [
    "import pandas as pd\n",
    "import matplotlib.pyplot as plt\n",
    "train = pd.read_csv('/Users/inder/Downloads/IDAO2020/train.csv')\n",
    "test = pd.read_csv('/Users/inder/Downloads/IDAO2020/Track1/test.csv')\n",
    "submission = pd.read_csv('/Users/inder/Downloads/IDAO2020/Track1/submission.csv')"
   ]
  },
  {
   "cell_type": "code",
   "execution_count": 7,
   "metadata": {},
   "outputs": [
    {
     "data": {
      "text/html": [
       "<div>\n",
       "<style scoped>\n",
       "    .dataframe tbody tr th:only-of-type {\n",
       "        vertical-align: middle;\n",
       "    }\n",
       "\n",
       "    .dataframe tbody tr th {\n",
       "        vertical-align: top;\n",
       "    }\n",
       "\n",
       "    .dataframe thead th {\n",
       "        text-align: right;\n",
       "    }\n",
       "</style>\n",
       "<table border=\"1\" class=\"dataframe\">\n",
       "  <thead>\n",
       "    <tr style=\"text-align: right;\">\n",
       "      <th></th>\n",
       "      <th>id</th>\n",
       "      <th>epoch</th>\n",
       "      <th>sat_id</th>\n",
       "      <th>x</th>\n",
       "      <th>y</th>\n",
       "      <th>z</th>\n",
       "      <th>Vx</th>\n",
       "      <th>Vy</th>\n",
       "      <th>Vz</th>\n",
       "      <th>x_sim</th>\n",
       "      <th>y_sim</th>\n",
       "      <th>z_sim</th>\n",
       "      <th>Vx_sim</th>\n",
       "      <th>Vy_sim</th>\n",
       "      <th>Vz_sim</th>\n",
       "    </tr>\n",
       "  </thead>\n",
       "  <tbody>\n",
       "    <tr>\n",
       "      <td>0</td>\n",
       "      <td>0</td>\n",
       "      <td>2014-01-01T00:00:00.000</td>\n",
       "      <td>0</td>\n",
       "      <td>-8855.823863</td>\n",
       "      <td>13117.780146</td>\n",
       "      <td>-20728.353233</td>\n",
       "      <td>-0.908303</td>\n",
       "      <td>-3.808436</td>\n",
       "      <td>-2.022083</td>\n",
       "      <td>-8843.131454</td>\n",
       "      <td>13138.221690</td>\n",
       "      <td>-20741.615306</td>\n",
       "      <td>-0.907527</td>\n",
       "      <td>-3.804930</td>\n",
       "      <td>-2.024133</td>\n",
       "    </tr>\n",
       "    <tr>\n",
       "      <td>1</td>\n",
       "      <td>1</td>\n",
       "      <td>2014-01-01T00:46:43.000</td>\n",
       "      <td>0</td>\n",
       "      <td>-10567.672384</td>\n",
       "      <td>1619.746066</td>\n",
       "      <td>-24451.813271</td>\n",
       "      <td>-0.302590</td>\n",
       "      <td>-4.272617</td>\n",
       "      <td>-0.612796</td>\n",
       "      <td>-10555.500066</td>\n",
       "      <td>1649.289367</td>\n",
       "      <td>-24473.089556</td>\n",
       "      <td>-0.303704</td>\n",
       "      <td>-4.269816</td>\n",
       "      <td>-0.616468</td>\n",
       "    </tr>\n",
       "    <tr>\n",
       "      <td>2</td>\n",
       "      <td>2</td>\n",
       "      <td>2014-01-01T01:33:26.001</td>\n",
       "      <td>0</td>\n",
       "      <td>-10578.684043</td>\n",
       "      <td>-10180.467460</td>\n",
       "      <td>-24238.280949</td>\n",
       "      <td>0.277435</td>\n",
       "      <td>-4.047522</td>\n",
       "      <td>0.723155</td>\n",
       "      <td>-10571.858472</td>\n",
       "      <td>-10145.939908</td>\n",
       "      <td>-24271.169776</td>\n",
       "      <td>0.274880</td>\n",
       "      <td>-4.046788</td>\n",
       "      <td>0.718768</td>\n",
       "    </tr>\n",
       "    <tr>\n",
       "      <td>3</td>\n",
       "      <td>3</td>\n",
       "      <td>2014-01-01T02:20:09.001</td>\n",
       "      <td>0</td>\n",
       "      <td>-9148.251857</td>\n",
       "      <td>-20651.437460</td>\n",
       "      <td>-20720.381279</td>\n",
       "      <td>0.715600</td>\n",
       "      <td>-3.373762</td>\n",
       "      <td>1.722115</td>\n",
       "      <td>-9149.620794</td>\n",
       "      <td>-20618.200201</td>\n",
       "      <td>-20765.019094</td>\n",
       "      <td>0.712437</td>\n",
       "      <td>-3.375202</td>\n",
       "      <td>1.718306</td>\n",
       "    </tr>\n",
       "    <tr>\n",
       "      <td>4</td>\n",
       "      <td>4</td>\n",
       "      <td>2014-01-01T03:06:52.002</td>\n",
       "      <td>0</td>\n",
       "      <td>-6719.092336</td>\n",
       "      <td>-28929.061629</td>\n",
       "      <td>-14938.907967</td>\n",
       "      <td>0.992507</td>\n",
       "      <td>-2.519732</td>\n",
       "      <td>2.344703</td>\n",
       "      <td>-6729.358857</td>\n",
       "      <td>-28902.271436</td>\n",
       "      <td>-14992.399986</td>\n",
       "      <td>0.989382</td>\n",
       "      <td>-2.522618</td>\n",
       "      <td>2.342237</td>\n",
       "    </tr>\n",
       "    <tr>\n",
       "      <td>...</td>\n",
       "      <td>...</td>\n",
       "      <td>...</td>\n",
       "      <td>...</td>\n",
       "      <td>...</td>\n",
       "      <td>...</td>\n",
       "      <td>...</td>\n",
       "      <td>...</td>\n",
       "      <td>...</td>\n",
       "      <td>...</td>\n",
       "      <td>...</td>\n",
       "      <td>...</td>\n",
       "      <td>...</td>\n",
       "      <td>...</td>\n",
       "      <td>...</td>\n",
       "      <td>...</td>\n",
       "    </tr>\n",
       "    <tr>\n",
       "      <td>649907</td>\n",
       "      <td>1234089</td>\n",
       "      <td>2014-01-31T22:00:22.602</td>\n",
       "      <td>599</td>\n",
       "      <td>-21721.485878</td>\n",
       "      <td>-14048.557595</td>\n",
       "      <td>5277.807430</td>\n",
       "      <td>-1.351754</td>\n",
       "      <td>3.373418</td>\n",
       "      <td>0.004995</td>\n",
       "      <td>-20717.958996</td>\n",
       "      <td>-16245.240500</td>\n",
       "      <td>5250.939232</td>\n",
       "      <td>-1.653931</td>\n",
       "      <td>3.157321</td>\n",
       "      <td>0.079069</td>\n",
       "    </tr>\n",
       "    <tr>\n",
       "      <td>649908</td>\n",
       "      <td>1234090</td>\n",
       "      <td>2014-01-31T22:25:13.240</td>\n",
       "      <td>599</td>\n",
       "      <td>-23176.890569</td>\n",
       "      <td>-8712.016936</td>\n",
       "      <td>5153.371350</td>\n",
       "      <td>-0.575955</td>\n",
       "      <td>3.764450</td>\n",
       "      <td>-0.175109</td>\n",
       "      <td>-22673.444496</td>\n",
       "      <td>-11192.339393</td>\n",
       "      <td>5243.608790</td>\n",
       "      <td>-0.945328</td>\n",
       "      <td>3.603371</td>\n",
       "      <td>-0.092202</td>\n",
       "    </tr>\n",
       "    <tr>\n",
       "      <td>649909</td>\n",
       "      <td>1234091</td>\n",
       "      <td>2014-01-31T22:50:03.878</td>\n",
       "      <td>599</td>\n",
       "      <td>-23363.044794</td>\n",
       "      <td>-2906.071320</td>\n",
       "      <td>4747.247386</td>\n",
       "      <td>0.351381</td>\n",
       "      <td>3.992943</td>\n",
       "      <td>-0.372198</td>\n",
       "      <td>-23461.830699</td>\n",
       "      <td>-5570.167175</td>\n",
       "      <td>4966.813869</td>\n",
       "      <td>-0.087089</td>\n",
       "      <td>3.912550</td>\n",
       "      <td>-0.281989</td>\n",
       "    </tr>\n",
       "    <tr>\n",
       "      <td>649910</td>\n",
       "      <td>1234092</td>\n",
       "      <td>2014-01-31T23:14:54.515</td>\n",
       "      <td>599</td>\n",
       "      <td>-22058.020262</td>\n",
       "      <td>3074.894039</td>\n",
       "      <td>4038.853542</td>\n",
       "      <td>1.421085</td>\n",
       "      <td>3.984793</td>\n",
       "      <td>-0.578849</td>\n",
       "      <td>-22858.679929</td>\n",
       "      <td>373.249102</td>\n",
       "      <td>4396.055679</td>\n",
       "      <td>0.920162</td>\n",
       "      <td>4.021955</td>\n",
       "      <td>-0.485364</td>\n",
       "    </tr>\n",
       "    <tr>\n",
       "      <td>649911</td>\n",
       "      <td>1234093</td>\n",
       "      <td>2014-01-31T23:39:45.153</td>\n",
       "      <td>599</td>\n",
       "      <td>-19076.969715</td>\n",
       "      <td>8807.476785</td>\n",
       "      <td>3024.623998</td>\n",
       "      <td>2.587973</td>\n",
       "      <td>3.641717</td>\n",
       "      <td>-0.778817</td>\n",
       "      <td>-20656.328603</td>\n",
       "      <td>6277.934683</td>\n",
       "      <td>3518.642806</td>\n",
       "      <td>2.050990</td>\n",
       "      <td>3.844021</td>\n",
       "      <td>-0.690707</td>\n",
       "    </tr>\n",
       "  </tbody>\n",
       "</table>\n",
       "<p>649912 rows × 15 columns</p>\n",
       "</div>"
      ],
      "text/plain": [
       "             id                    epoch  sat_id             x             y  \\\n",
       "0             0  2014-01-01T00:00:00.000       0  -8855.823863  13117.780146   \n",
       "1             1  2014-01-01T00:46:43.000       0 -10567.672384   1619.746066   \n",
       "2             2  2014-01-01T01:33:26.001       0 -10578.684043 -10180.467460   \n",
       "3             3  2014-01-01T02:20:09.001       0  -9148.251857 -20651.437460   \n",
       "4             4  2014-01-01T03:06:52.002       0  -6719.092336 -28929.061629   \n",
       "...         ...                      ...     ...           ...           ...   \n",
       "649907  1234089  2014-01-31T22:00:22.602     599 -21721.485878 -14048.557595   \n",
       "649908  1234090  2014-01-31T22:25:13.240     599 -23176.890569  -8712.016936   \n",
       "649909  1234091  2014-01-31T22:50:03.878     599 -23363.044794  -2906.071320   \n",
       "649910  1234092  2014-01-31T23:14:54.515     599 -22058.020262   3074.894039   \n",
       "649911  1234093  2014-01-31T23:39:45.153     599 -19076.969715   8807.476785   \n",
       "\n",
       "                   z        Vx        Vy        Vz         x_sim  \\\n",
       "0      -20728.353233 -0.908303 -3.808436 -2.022083  -8843.131454   \n",
       "1      -24451.813271 -0.302590 -4.272617 -0.612796 -10555.500066   \n",
       "2      -24238.280949  0.277435 -4.047522  0.723155 -10571.858472   \n",
       "3      -20720.381279  0.715600 -3.373762  1.722115  -9149.620794   \n",
       "4      -14938.907967  0.992507 -2.519732  2.344703  -6729.358857   \n",
       "...              ...       ...       ...       ...           ...   \n",
       "649907   5277.807430 -1.351754  3.373418  0.004995 -20717.958996   \n",
       "649908   5153.371350 -0.575955  3.764450 -0.175109 -22673.444496   \n",
       "649909   4747.247386  0.351381  3.992943 -0.372198 -23461.830699   \n",
       "649910   4038.853542  1.421085  3.984793 -0.578849 -22858.679929   \n",
       "649911   3024.623998  2.587973  3.641717 -0.778817 -20656.328603   \n",
       "\n",
       "               y_sim         z_sim    Vx_sim    Vy_sim    Vz_sim  \n",
       "0       13138.221690 -20741.615306 -0.907527 -3.804930 -2.024133  \n",
       "1        1649.289367 -24473.089556 -0.303704 -4.269816 -0.616468  \n",
       "2      -10145.939908 -24271.169776  0.274880 -4.046788  0.718768  \n",
       "3      -20618.200201 -20765.019094  0.712437 -3.375202  1.718306  \n",
       "4      -28902.271436 -14992.399986  0.989382 -2.522618  2.342237  \n",
       "...              ...           ...       ...       ...       ...  \n",
       "649907 -16245.240500   5250.939232 -1.653931  3.157321  0.079069  \n",
       "649908 -11192.339393   5243.608790 -0.945328  3.603371 -0.092202  \n",
       "649909  -5570.167175   4966.813869 -0.087089  3.912550 -0.281989  \n",
       "649910    373.249102   4396.055679  0.920162  4.021955 -0.485364  \n",
       "649911   6277.934683   3518.642806  2.050990  3.844021 -0.690707  \n",
       "\n",
       "[649912 rows x 15 columns]"
      ]
     },
     "execution_count": 7,
     "metadata": {},
     "output_type": "execute_result"
    }
   ],
   "source": [
    "train"
   ]
  },
  {
   "cell_type": "code",
   "execution_count": 10,
   "metadata": {},
   "outputs": [
    {
     "data": {
      "text/html": [
       "<div>\n",
       "<style scoped>\n",
       "    .dataframe tbody tr th:only-of-type {\n",
       "        vertical-align: middle;\n",
       "    }\n",
       "\n",
       "    .dataframe tbody tr th {\n",
       "        vertical-align: top;\n",
       "    }\n",
       "\n",
       "    .dataframe thead th {\n",
       "        text-align: right;\n",
       "    }\n",
       "</style>\n",
       "<table border=\"1\" class=\"dataframe\">\n",
       "  <thead>\n",
       "    <tr style=\"text-align: right;\">\n",
       "      <th></th>\n",
       "      <th>id</th>\n",
       "      <th>sat_id</th>\n",
       "      <th>epoch</th>\n",
       "      <th>x_sim</th>\n",
       "      <th>y_sim</th>\n",
       "      <th>z_sim</th>\n",
       "      <th>Vx_sim</th>\n",
       "      <th>Vy_sim</th>\n",
       "      <th>Vz_sim</th>\n",
       "    </tr>\n",
       "  </thead>\n",
       "  <tbody>\n",
       "    <tr>\n",
       "      <td>0</td>\n",
       "      <td>3927</td>\n",
       "      <td>1</td>\n",
       "      <td>2014-02-01T00:01:45.162</td>\n",
       "      <td>-13366.891347</td>\n",
       "      <td>-14236.753503</td>\n",
       "      <td>6386.774555</td>\n",
       "      <td>4.333815</td>\n",
       "      <td>-0.692764</td>\n",
       "      <td>0.810774</td>\n",
       "    </tr>\n",
       "    <tr>\n",
       "      <td>1</td>\n",
       "      <td>3928</td>\n",
       "      <td>1</td>\n",
       "      <td>2014-02-01T00:22:57.007</td>\n",
       "      <td>-7370.434039</td>\n",
       "      <td>-14498.771520</td>\n",
       "      <td>7130.411325</td>\n",
       "      <td>5.077413</td>\n",
       "      <td>0.360609</td>\n",
       "      <td>0.313402</td>\n",
       "    </tr>\n",
       "    <tr>\n",
       "      <td>2</td>\n",
       "      <td>3929</td>\n",
       "      <td>1</td>\n",
       "      <td>2014-02-01T00:44:08.852</td>\n",
       "      <td>-572.068654</td>\n",
       "      <td>-13065.289498</td>\n",
       "      <td>7033.794876</td>\n",
       "      <td>5.519106</td>\n",
       "      <td>2.012830</td>\n",
       "      <td>-0.539412</td>\n",
       "    </tr>\n",
       "    <tr>\n",
       "      <td>3</td>\n",
       "      <td>3930</td>\n",
       "      <td>1</td>\n",
       "      <td>2014-02-01T01:05:20.697</td>\n",
       "      <td>6208.945257</td>\n",
       "      <td>-9076.852425</td>\n",
       "      <td>5548.296900</td>\n",
       "      <td>4.849212</td>\n",
       "      <td>4.338955</td>\n",
       "      <td>-1.869600</td>\n",
       "    </tr>\n",
       "    <tr>\n",
       "      <td>4</td>\n",
       "      <td>3931</td>\n",
       "      <td>1</td>\n",
       "      <td>2014-02-01T01:26:32.542</td>\n",
       "      <td>10768.200284</td>\n",
       "      <td>-2199.706707</td>\n",
       "      <td>2272.014862</td>\n",
       "      <td>1.940505</td>\n",
       "      <td>6.192887</td>\n",
       "      <td>-3.167724</td>\n",
       "    </tr>\n",
       "    <tr>\n",
       "      <td>...</td>\n",
       "      <td>...</td>\n",
       "      <td>...</td>\n",
       "      <td>...</td>\n",
       "      <td>...</td>\n",
       "      <td>...</td>\n",
       "      <td>...</td>\n",
       "      <td>...</td>\n",
       "      <td>...</td>\n",
       "      <td>...</td>\n",
       "    </tr>\n",
       "    <tr>\n",
       "      <td>284066</td>\n",
       "      <td>1231060</td>\n",
       "      <td>597</td>\n",
       "      <td>2014-02-28T05:19:01.386</td>\n",
       "      <td>28595.031634</td>\n",
       "      <td>-85458.623976</td>\n",
       "      <td>5021.767767</td>\n",
       "      <td>-1.721131</td>\n",
       "      <td>-0.011611</td>\n",
       "      <td>0.122357</td>\n",
       "    </tr>\n",
       "    <tr>\n",
       "      <td>284067</td>\n",
       "      <td>1231061</td>\n",
       "      <td>597</td>\n",
       "      <td>2014-02-28T07:21:46.454</td>\n",
       "      <td>15547.173728</td>\n",
       "      <td>-84233.509948</td>\n",
       "      <td>5840.616702</td>\n",
       "      <td>-1.815323</td>\n",
       "      <td>0.353445</td>\n",
       "      <td>0.098927</td>\n",
       "    </tr>\n",
       "    <tr>\n",
       "      <td>284068</td>\n",
       "      <td>1231062</td>\n",
       "      <td>597</td>\n",
       "      <td>2014-02-28T09:24:31.522</td>\n",
       "      <td>1981.107111</td>\n",
       "      <td>-80123.860051</td>\n",
       "      <td>6458.394351</td>\n",
       "      <td>-1.858963</td>\n",
       "      <td>0.773846</td>\n",
       "      <td>0.067379</td>\n",
       "    </tr>\n",
       "    <tr>\n",
       "      <td>284069</td>\n",
       "      <td>1231063</td>\n",
       "      <td>597</td>\n",
       "      <td>2014-02-28T11:27:16.590</td>\n",
       "      <td>-11644.801379</td>\n",
       "      <td>-72674.504171</td>\n",
       "      <td>6805.361999</td>\n",
       "      <td>-1.826030</td>\n",
       "      <td>1.262930</td>\n",
       "      <td>0.024782</td>\n",
       "    </tr>\n",
       "    <tr>\n",
       "      <td>284070</td>\n",
       "      <td>1231064</td>\n",
       "      <td>597</td>\n",
       "      <td>2014-02-28T13:30:01.658</td>\n",
       "      <td>-24606.415254</td>\n",
       "      <td>-61329.599053</td>\n",
       "      <td>6784.763455</td>\n",
       "      <td>-1.667849</td>\n",
       "      <td>1.833746</td>\n",
       "      <td>-0.033371</td>\n",
       "    </tr>\n",
       "  </tbody>\n",
       "</table>\n",
       "<p>284071 rows × 9 columns</p>\n",
       "</div>"
      ],
      "text/plain": [
       "             id  sat_id                    epoch         x_sim         y_sim  \\\n",
       "0          3927       1  2014-02-01T00:01:45.162 -13366.891347 -14236.753503   \n",
       "1          3928       1  2014-02-01T00:22:57.007  -7370.434039 -14498.771520   \n",
       "2          3929       1  2014-02-01T00:44:08.852   -572.068654 -13065.289498   \n",
       "3          3930       1  2014-02-01T01:05:20.697   6208.945257  -9076.852425   \n",
       "4          3931       1  2014-02-01T01:26:32.542  10768.200284  -2199.706707   \n",
       "...         ...     ...                      ...           ...           ...   \n",
       "284066  1231060     597  2014-02-28T05:19:01.386  28595.031634 -85458.623976   \n",
       "284067  1231061     597  2014-02-28T07:21:46.454  15547.173728 -84233.509948   \n",
       "284068  1231062     597  2014-02-28T09:24:31.522   1981.107111 -80123.860051   \n",
       "284069  1231063     597  2014-02-28T11:27:16.590 -11644.801379 -72674.504171   \n",
       "284070  1231064     597  2014-02-28T13:30:01.658 -24606.415254 -61329.599053   \n",
       "\n",
       "              z_sim    Vx_sim    Vy_sim    Vz_sim  \n",
       "0       6386.774555  4.333815 -0.692764  0.810774  \n",
       "1       7130.411325  5.077413  0.360609  0.313402  \n",
       "2       7033.794876  5.519106  2.012830 -0.539412  \n",
       "3       5548.296900  4.849212  4.338955 -1.869600  \n",
       "4       2272.014862  1.940505  6.192887 -3.167724  \n",
       "...             ...       ...       ...       ...  \n",
       "284066  5021.767767 -1.721131 -0.011611  0.122357  \n",
       "284067  5840.616702 -1.815323  0.353445  0.098927  \n",
       "284068  6458.394351 -1.858963  0.773846  0.067379  \n",
       "284069  6805.361999 -1.826030  1.262930  0.024782  \n",
       "284070  6784.763455 -1.667849  1.833746 -0.033371  \n",
       "\n",
       "[284071 rows x 9 columns]"
      ]
     },
     "execution_count": 10,
     "metadata": {},
     "output_type": "execute_result"
    }
   ],
   "source": [
    "test"
   ]
  },
  {
   "cell_type": "code",
   "execution_count": 11,
   "metadata": {},
   "outputs": [
    {
     "data": {
      "text/html": [
       "<div>\n",
       "<style scoped>\n",
       "    .dataframe tbody tr th:only-of-type {\n",
       "        vertical-align: middle;\n",
       "    }\n",
       "\n",
       "    .dataframe tbody tr th {\n",
       "        vertical-align: top;\n",
       "    }\n",
       "\n",
       "    .dataframe thead th {\n",
       "        text-align: right;\n",
       "    }\n",
       "</style>\n",
       "<table border=\"1\" class=\"dataframe\">\n",
       "  <thead>\n",
       "    <tr style=\"text-align: right;\">\n",
       "      <th></th>\n",
       "      <th>id</th>\n",
       "      <th>x</th>\n",
       "      <th>y</th>\n",
       "      <th>z</th>\n",
       "      <th>Vx</th>\n",
       "      <th>Vy</th>\n",
       "      <th>Vz</th>\n",
       "    </tr>\n",
       "  </thead>\n",
       "  <tbody>\n",
       "    <tr>\n",
       "      <td>0</td>\n",
       "      <td>3927</td>\n",
       "      <td>-13366.891347</td>\n",
       "      <td>-14236.753503</td>\n",
       "      <td>6386.774555</td>\n",
       "      <td>4.333815</td>\n",
       "      <td>-0.692764</td>\n",
       "      <td>0.810774</td>\n",
       "    </tr>\n",
       "    <tr>\n",
       "      <td>1</td>\n",
       "      <td>3928</td>\n",
       "      <td>-7370.434039</td>\n",
       "      <td>-14498.771520</td>\n",
       "      <td>7130.411325</td>\n",
       "      <td>5.077413</td>\n",
       "      <td>0.360609</td>\n",
       "      <td>0.313402</td>\n",
       "    </tr>\n",
       "    <tr>\n",
       "      <td>2</td>\n",
       "      <td>3929</td>\n",
       "      <td>-572.068654</td>\n",
       "      <td>-13065.289498</td>\n",
       "      <td>7033.794876</td>\n",
       "      <td>5.519106</td>\n",
       "      <td>2.012830</td>\n",
       "      <td>-0.539412</td>\n",
       "    </tr>\n",
       "    <tr>\n",
       "      <td>3</td>\n",
       "      <td>3930</td>\n",
       "      <td>6208.945257</td>\n",
       "      <td>-9076.852425</td>\n",
       "      <td>5548.296900</td>\n",
       "      <td>4.849212</td>\n",
       "      <td>4.338955</td>\n",
       "      <td>-1.869600</td>\n",
       "    </tr>\n",
       "    <tr>\n",
       "      <td>4</td>\n",
       "      <td>3931</td>\n",
       "      <td>10768.200284</td>\n",
       "      <td>-2199.706707</td>\n",
       "      <td>2272.014862</td>\n",
       "      <td>1.940505</td>\n",
       "      <td>6.192887</td>\n",
       "      <td>-3.167724</td>\n",
       "    </tr>\n",
       "    <tr>\n",
       "      <td>...</td>\n",
       "      <td>...</td>\n",
       "      <td>...</td>\n",
       "      <td>...</td>\n",
       "      <td>...</td>\n",
       "      <td>...</td>\n",
       "      <td>...</td>\n",
       "      <td>...</td>\n",
       "    </tr>\n",
       "    <tr>\n",
       "      <td>284066</td>\n",
       "      <td>1231060</td>\n",
       "      <td>28595.031634</td>\n",
       "      <td>-85458.623976</td>\n",
       "      <td>5021.767767</td>\n",
       "      <td>-1.721131</td>\n",
       "      <td>-0.011611</td>\n",
       "      <td>0.122357</td>\n",
       "    </tr>\n",
       "    <tr>\n",
       "      <td>284067</td>\n",
       "      <td>1231061</td>\n",
       "      <td>15547.173728</td>\n",
       "      <td>-84233.509948</td>\n",
       "      <td>5840.616702</td>\n",
       "      <td>-1.815323</td>\n",
       "      <td>0.353445</td>\n",
       "      <td>0.098927</td>\n",
       "    </tr>\n",
       "    <tr>\n",
       "      <td>284068</td>\n",
       "      <td>1231062</td>\n",
       "      <td>1981.107111</td>\n",
       "      <td>-80123.860051</td>\n",
       "      <td>6458.394351</td>\n",
       "      <td>-1.858963</td>\n",
       "      <td>0.773846</td>\n",
       "      <td>0.067379</td>\n",
       "    </tr>\n",
       "    <tr>\n",
       "      <td>284069</td>\n",
       "      <td>1231063</td>\n",
       "      <td>-11644.801379</td>\n",
       "      <td>-72674.504171</td>\n",
       "      <td>6805.361999</td>\n",
       "      <td>-1.826030</td>\n",
       "      <td>1.262930</td>\n",
       "      <td>0.024782</td>\n",
       "    </tr>\n",
       "    <tr>\n",
       "      <td>284070</td>\n",
       "      <td>1231064</td>\n",
       "      <td>-24606.415254</td>\n",
       "      <td>-61329.599053</td>\n",
       "      <td>6784.763455</td>\n",
       "      <td>-1.667849</td>\n",
       "      <td>1.833746</td>\n",
       "      <td>-0.033371</td>\n",
       "    </tr>\n",
       "  </tbody>\n",
       "</table>\n",
       "<p>284071 rows × 7 columns</p>\n",
       "</div>"
      ],
      "text/plain": [
       "             id             x             y            z        Vx        Vy  \\\n",
       "0          3927 -13366.891347 -14236.753503  6386.774555  4.333815 -0.692764   \n",
       "1          3928  -7370.434039 -14498.771520  7130.411325  5.077413  0.360609   \n",
       "2          3929   -572.068654 -13065.289498  7033.794876  5.519106  2.012830   \n",
       "3          3930   6208.945257  -9076.852425  5548.296900  4.849212  4.338955   \n",
       "4          3931  10768.200284  -2199.706707  2272.014862  1.940505  6.192887   \n",
       "...         ...           ...           ...          ...       ...       ...   \n",
       "284066  1231060  28595.031634 -85458.623976  5021.767767 -1.721131 -0.011611   \n",
       "284067  1231061  15547.173728 -84233.509948  5840.616702 -1.815323  0.353445   \n",
       "284068  1231062   1981.107111 -80123.860051  6458.394351 -1.858963  0.773846   \n",
       "284069  1231063 -11644.801379 -72674.504171  6805.361999 -1.826030  1.262930   \n",
       "284070  1231064 -24606.415254 -61329.599053  6784.763455 -1.667849  1.833746   \n",
       "\n",
       "              Vz  \n",
       "0       0.810774  \n",
       "1       0.313402  \n",
       "2      -0.539412  \n",
       "3      -1.869600  \n",
       "4      -3.167724  \n",
       "...          ...  \n",
       "284066  0.122357  \n",
       "284067  0.098927  \n",
       "284068  0.067379  \n",
       "284069  0.024782  \n",
       "284070 -0.033371  \n",
       "\n",
       "[284071 rows x 7 columns]"
      ]
     },
     "execution_count": 11,
     "metadata": {},
     "output_type": "execute_result"
    }
   ],
   "source": [
    "submission"
   ]
  },
  {
   "cell_type": "code",
   "execution_count": 8,
   "metadata": {},
   "outputs": [
    {
     "data": {
      "text/plain": [
       "372    6320\n",
       "186    6204\n",
       "429    6074\n",
       "321    5673\n",
       "529    5665\n",
       "       ... \n",
       "354     120\n",
       "515     111\n",
       "487     110\n",
       "301      99\n",
       "252      94\n",
       "Name: sat_id, Length: 600, dtype: int64"
      ]
     },
     "execution_count": 8,
     "metadata": {},
     "output_type": "execute_result"
    }
   ],
   "source": [
    "train.sat_id.value_counts()"
   ]
  },
  {
   "cell_type": "code",
   "execution_count": 94,
   "metadata": {},
   "outputs": [
    {
     "data": {
      "text/plain": [
       "372    5707\n",
       "186    5601\n",
       "470    4923\n",
       "588    4413\n",
       "489    4149\n",
       "       ... \n",
       "26      114\n",
       "524     102\n",
       "515     100\n",
       "301      88\n",
       "252      84\n",
       "Name: sat_id, Length: 300, dtype: int64"
      ]
     },
     "execution_count": 94,
     "metadata": {},
     "output_type": "execute_result"
    }
   ],
   "source": [
    "test.sat_id.value_counts()#.sort_index()"
   ]
  },
  {
   "cell_type": "code",
   "execution_count": 62,
   "metadata": {},
   "outputs": [],
   "source": [
    "testsatid = test[\"sat_id\"].value_counts().sort_index().rename_axis('sat_id').reset_index(name='counts_test')\n",
    "trainsatid = train[\"sat_id\"].value_counts().sort_index().rename_axis('sat_id').reset_index(name='counts_train')"
   ]
  },
  {
   "cell_type": "code",
   "execution_count": 75,
   "metadata": {},
   "outputs": [
    {
     "data": {
      "text/html": [
       "<div>\n",
       "<style scoped>\n",
       "    .dataframe tbody tr th:only-of-type {\n",
       "        vertical-align: middle;\n",
       "    }\n",
       "\n",
       "    .dataframe tbody tr th {\n",
       "        vertical-align: top;\n",
       "    }\n",
       "\n",
       "    .dataframe thead th {\n",
       "        text-align: right;\n",
       "    }\n",
       "</style>\n",
       "<table border=\"1\" class=\"dataframe\">\n",
       "  <thead>\n",
       "    <tr style=\"text-align: right;\">\n",
       "      <th></th>\n",
       "      <th>sat_id</th>\n",
       "      <th>counts_test</th>\n",
       "      <th>counts_train</th>\n",
       "    </tr>\n",
       "  </thead>\n",
       "  <tbody>\n",
       "    <tr>\n",
       "      <td>0</td>\n",
       "      <td>1</td>\n",
       "      <td>1901</td>\n",
       "      <td>2108</td>\n",
       "    </tr>\n",
       "    <tr>\n",
       "      <td>1</td>\n",
       "      <td>2</td>\n",
       "      <td>375</td>\n",
       "      <td>417</td>\n",
       "    </tr>\n",
       "    <tr>\n",
       "      <td>2</td>\n",
       "      <td>3</td>\n",
       "      <td>318</td>\n",
       "      <td>354</td>\n",
       "    </tr>\n",
       "    <tr>\n",
       "      <td>3</td>\n",
       "      <td>4</td>\n",
       "      <td>1087</td>\n",
       "      <td>1210</td>\n",
       "    </tr>\n",
       "    <tr>\n",
       "      <td>4</td>\n",
       "      <td>6</td>\n",
       "      <td>378</td>\n",
       "      <td>418</td>\n",
       "    </tr>\n",
       "    <tr>\n",
       "      <td>...</td>\n",
       "      <td>...</td>\n",
       "      <td>...</td>\n",
       "      <td>...</td>\n",
       "    </tr>\n",
       "    <tr>\n",
       "      <td>295</td>\n",
       "      <td>588</td>\n",
       "      <td>4413</td>\n",
       "      <td>4894</td>\n",
       "    </tr>\n",
       "    <tr>\n",
       "      <td>296</td>\n",
       "      <td>593</td>\n",
       "      <td>1180</td>\n",
       "      <td>1307</td>\n",
       "    </tr>\n",
       "    <tr>\n",
       "      <td>297</td>\n",
       "      <td>595</td>\n",
       "      <td>446</td>\n",
       "      <td>499</td>\n",
       "    </tr>\n",
       "    <tr>\n",
       "      <td>298</td>\n",
       "      <td>596</td>\n",
       "      <td>339</td>\n",
       "      <td>378</td>\n",
       "    </tr>\n",
       "    <tr>\n",
       "      <td>299</td>\n",
       "      <td>597</td>\n",
       "      <td>327</td>\n",
       "      <td>366</td>\n",
       "    </tr>\n",
       "  </tbody>\n",
       "</table>\n",
       "<p>300 rows × 3 columns</p>\n",
       "</div>"
      ],
      "text/plain": [
       "     sat_id  counts_test  counts_train\n",
       "0         1         1901          2108\n",
       "1         2          375           417\n",
       "2         3          318           354\n",
       "3         4         1087          1210\n",
       "4         6          378           418\n",
       "..      ...          ...           ...\n",
       "295     588         4413          4894\n",
       "296     593         1180          1307\n",
       "297     595          446           499\n",
       "298     596          339           378\n",
       "299     597          327           366\n",
       "\n",
       "[300 rows x 3 columns]"
      ]
     },
     "execution_count": 75,
     "metadata": {},
     "output_type": "execute_result"
    }
   ],
   "source": [
    "intersect_join = testsatid.join(trainsatid.set_index('sat_id'), on='sat_id')\n",
    "intersect_join"
   ]
  },
  {
   "cell_type": "code",
   "execution_count": 74,
   "metadata": {},
   "outputs": [
    {
     "data": {
      "text/html": [
       "<div>\n",
       "<style scoped>\n",
       "    .dataframe tbody tr th:only-of-type {\n",
       "        vertical-align: middle;\n",
       "    }\n",
       "\n",
       "    .dataframe tbody tr th {\n",
       "        vertical-align: top;\n",
       "    }\n",
       "\n",
       "    .dataframe thead th {\n",
       "        text-align: right;\n",
       "    }\n",
       "</style>\n",
       "<table border=\"1\" class=\"dataframe\">\n",
       "  <thead>\n",
       "    <tr style=\"text-align: right;\">\n",
       "      <th></th>\n",
       "      <th>sat_id</th>\n",
       "      <th>counts_train</th>\n",
       "      <th>counts_test</th>\n",
       "      <th>counts_total</th>\n",
       "    </tr>\n",
       "  </thead>\n",
       "  <tbody>\n",
       "    <tr>\n",
       "      <td>0</td>\n",
       "      <td>0</td>\n",
       "      <td>958</td>\n",
       "      <td>0.0</td>\n",
       "      <td>958.0</td>\n",
       "    </tr>\n",
       "    <tr>\n",
       "      <td>1</td>\n",
       "      <td>1</td>\n",
       "      <td>2108</td>\n",
       "      <td>1901.0</td>\n",
       "      <td>4009.0</td>\n",
       "    </tr>\n",
       "    <tr>\n",
       "      <td>2</td>\n",
       "      <td>2</td>\n",
       "      <td>417</td>\n",
       "      <td>375.0</td>\n",
       "      <td>792.0</td>\n",
       "    </tr>\n",
       "    <tr>\n",
       "      <td>3</td>\n",
       "      <td>3</td>\n",
       "      <td>354</td>\n",
       "      <td>318.0</td>\n",
       "      <td>672.0</td>\n",
       "    </tr>\n",
       "    <tr>\n",
       "      <td>4</td>\n",
       "      <td>4</td>\n",
       "      <td>1210</td>\n",
       "      <td>1087.0</td>\n",
       "      <td>2297.0</td>\n",
       "    </tr>\n",
       "    <tr>\n",
       "      <td>...</td>\n",
       "      <td>...</td>\n",
       "      <td>...</td>\n",
       "      <td>...</td>\n",
       "      <td>...</td>\n",
       "    </tr>\n",
       "    <tr>\n",
       "      <td>595</td>\n",
       "      <td>595</td>\n",
       "      <td>499</td>\n",
       "      <td>446.0</td>\n",
       "      <td>945.0</td>\n",
       "    </tr>\n",
       "    <tr>\n",
       "      <td>596</td>\n",
       "      <td>596</td>\n",
       "      <td>378</td>\n",
       "      <td>339.0</td>\n",
       "      <td>717.0</td>\n",
       "    </tr>\n",
       "    <tr>\n",
       "      <td>597</td>\n",
       "      <td>597</td>\n",
       "      <td>366</td>\n",
       "      <td>327.0</td>\n",
       "      <td>693.0</td>\n",
       "    </tr>\n",
       "    <tr>\n",
       "      <td>598</td>\n",
       "      <td>598</td>\n",
       "      <td>648</td>\n",
       "      <td>0.0</td>\n",
       "      <td>648.0</td>\n",
       "    </tr>\n",
       "    <tr>\n",
       "      <td>599</td>\n",
       "      <td>599</td>\n",
       "      <td>1797</td>\n",
       "      <td>0.0</td>\n",
       "      <td>1797.0</td>\n",
       "    </tr>\n",
       "  </tbody>\n",
       "</table>\n",
       "<p>600 rows × 4 columns</p>\n",
       "</div>"
      ],
      "text/plain": [
       "     sat_id  counts_train  counts_test  counts_total\n",
       "0         0           958          0.0         958.0\n",
       "1         1          2108       1901.0        4009.0\n",
       "2         2           417        375.0         792.0\n",
       "3         3           354        318.0         672.0\n",
       "4         4          1210       1087.0        2297.0\n",
       "..      ...           ...          ...           ...\n",
       "595     595           499        446.0         945.0\n",
       "596     596           378        339.0         717.0\n",
       "597     597           366        327.0         693.0\n",
       "598     598           648          0.0         648.0\n",
       "599     599          1797          0.0        1797.0\n",
       "\n",
       "[600 rows x 4 columns]"
      ]
     },
     "execution_count": 74,
     "metadata": {},
     "output_type": "execute_result"
    }
   ],
   "source": [
    "total_join = trainsatid.join(testsatid.set_index('sat_id'), on='sat_id').fillna(0)\n",
    "total_join[\"counts_total\"] = total_join[\"counts_train\"]+total_join[\"counts_test\"]\n",
    "total_join"
   ]
  },
  {
   "cell_type": "code",
   "execution_count": 81,
   "metadata": {},
   "outputs": [
    {
     "data": {
      "text/plain": [
       "<BarContainer object of 50 artists>"
      ]
     },
     "execution_count": 81,
     "metadata": {},
     "output_type": "execute_result"
    },
    {
     "data": {
      "image/png": "[encoded data removed]",
      "text/plain": [
       "<Figure size 1440x432 with 1 Axes>"
      ]
     },
     "metadata": {
      "needs_background": "light"
     },
     "output_type": "display_data"
    }
   ],
   "source": [
    "plt.figure(figsize=(20, 6)) \n",
    "plt.bar(total_join.sat_id[:100], total_join.counts_total[:100])\n",
    "plt.bar(intersect_join.sat_id[:50], intersect_join.counts_train[:50])"
   ]
  },
  {
   "cell_type": "code",
   "execution_count": 78,
   "metadata": {},
   "outputs": [
    {
     "data": {
      "text/plain": [
       "<BarContainer object of 100 artists>"
      ]
     },
     "execution_count": 78,
     "metadata": {},
     "output_type": "execute_result"
    },
    {
     "data": {
      "image/png": "[encoded data removed]",
      "text/plain": [
       "<Figure size 1440x432 with 1 Axes>"
      ]
     },
     "metadata": {
      "needs_background": "light"
     },
     "output_type": "display_data"
    }
   ],
   "source": [
    "plt.figure(figsize=(20, 6))\n",
    "plt.bar(intersect_join.sat_id[:100], intersect_join.counts_train[:100])\n",
    "plt.bar(intersect_join.sat_id[:100], intersect_join.counts_test[:100])"
   ]
  },
  {
   "cell_type": "code",
   "execution_count": 98,
   "metadata": {},
   "outputs": [
    {
     "data": {
      "text/plain": [
       "908    2014-01-30T09:25:18.452\n",
       "909    2014-01-30T10:12:01.452\n",
       "910    2014-01-30T10:58:44.453\n",
       "911    2014-01-30T11:45:27.453\n",
       "912    2014-01-30T12:32:10.454\n",
       "913    2014-01-30T13:18:53.454\n",
       "914    2014-01-30T14:05:36.455\n",
       "915    2014-01-30T14:52:19.455\n",
       "916    2014-01-30T15:39:02.456\n",
       "917    2014-01-30T16:25:45.456\n",
       "918    2014-01-30T17:12:28.457\n",
       "919    2014-01-30T17:59:11.457\n",
       "920    2014-01-30T18:45:54.458\n",
       "921    2014-01-30T19:32:37.458\n",
       "922    2014-01-30T20:19:20.459\n",
       "923    2014-01-30T21:06:03.459\n",
       "924    2014-01-30T21:52:46.460\n",
       "925    2014-01-30T22:39:29.460\n",
       "926    2014-01-30T23:26:12.461\n",
       "927    2014-01-31T00:12:55.461\n",
       "928    2014-01-31T00:59:38.462\n",
       "929    2014-01-31T01:46:21.462\n",
       "930    2014-01-31T02:33:04.463\n",
       "931    2014-01-31T03:19:47.463\n",
       "932    2014-01-31T04:06:30.464\n",
       "933    2014-01-31T04:53:13.464\n",
       "934    2014-01-31T05:39:56.464\n",
       "935    2014-01-31T06:26:39.465\n",
       "936    2014-01-31T07:13:22.465\n",
       "937    2014-01-31T08:00:05.466\n",
       "938    2014-01-31T08:46:48.466\n",
       "939    2014-01-31T09:33:31.467\n",
       "940    2014-01-31T10:20:14.467\n",
       "941    2014-01-31T11:06:57.468\n",
       "942    2014-01-31T11:53:40.468\n",
       "943    2014-01-31T12:40:23.469\n",
       "944    2014-01-31T13:27:06.469\n",
       "945    2014-01-31T14:13:49.470\n",
       "946    2014-01-31T15:00:32.470\n",
       "947    2014-01-31T15:47:15.471\n",
       "948    2014-01-31T16:33:58.471\n",
       "949    2014-01-31T17:20:41.472\n",
       "950    2014-01-31T18:07:24.472\n",
       "951    2014-01-31T18:54:07.473\n",
       "952    2014-01-31T19:40:50.473\n",
       "953    2014-01-31T20:27:33.474\n",
       "954    2014-01-31T21:14:16.474\n",
       "955    2014-01-31T22:00:59.475\n",
       "956    2014-01-31T22:47:42.475\n",
       "957    2014-01-31T23:34:25.476\n",
       "Name: epoch, dtype: object"
      ]
     },
     "execution_count": 98,
     "metadata": {},
     "output_type": "execute_result"
    }
   ],
   "source": [
    "train[train.sat_id==0].epoch[-50:]"
   ]
  },
  {
   "cell_type": "code",
   "execution_count": 99,
   "metadata": {},
   "outputs": [
    {
     "data": {
      "text/plain": [
       "Series([], Name: epoch, dtype: object)"
      ]
     },
     "execution_count": 99,
     "metadata": {},
     "output_type": "execute_result"
    }
   ],
   "source": [
    "test[test.sat_id==0].epoch[-50:]"
   ]
  },
  {
   "cell_type": "code",
   "execution_count": null,
   "metadata": {},
   "outputs": [],
   "source": [
    "'''\n",
    "- there are 600 satellites.\n",
    "- train data contains data of january 2014 of all 600 satellites\n",
    "- test data contains data of february 2014 of 300 randomly selected satellites\n",
    "- theory -> hidden test data must contains data of february 2014 of other 300 satellites \n",
    "- each satellite's data is recorded at constant time interval. this time interval is different for different satellite\n",
    "- col and col_sim are closely related in train data\n",
    "'''"
   ]
  }
 ],
 "metadata": {
  "kernelspec": {
   "display_name": "Python 3",
   "language": "python",
   "name": "python3"
  },
  "language_info": {
   "codemirror_mode": {
    "name": "ipython",
    "version": 3
   },
   "file_extension": ".py",
   "mimetype": "text/x-python",
   "name": "python",
   "nbconvert_exporter": "python",
   "pygments_lexer": "ipython3",
   "version": "3.7.4"
  }
 },
 "nbformat": 4,
 "nbformat_minor": 2
}
